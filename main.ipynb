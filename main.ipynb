{
 "cells": [
  {
   "cell_type": "code",
   "execution_count": 1,
   "metadata": {
    "collapsed": true
   },
   "outputs": [],
   "source": [
    "import torch\n",
    "import numpy as np\n",
    "from torch.utils.data import DataLoader\n",
    "from sklearn.metrics import classification_report\n",
    "from dataset import get_MNIST_data\n",
    "from model import CNN\n",
    "from lion_pytorch import Lion as pytorch_Lion\n",
    "import time\n",
    "import matplotlib.pyplot as plt\n",
    "device = torch.device(\"cuda\" if torch.cuda.is_available() else \"cpu\")\n",
    "\n",
    "TRAIN_SPLIT = 0.75\n",
    "BATCH_SIZE = 64\n",
    "EPOCHS = 10"
   ]
  },
  {
   "cell_type": "code",
   "execution_count": 2,
   "outputs": [],
   "source": [
    "traindata, testdata, valdata = get_MNIST_data(TRAIN_SPLIT)\n",
    "traindataloader = DataLoader(traindata, batch_size=BATCH_SIZE)\n",
    "valdataloader = DataLoader(valdata, batch_size=BATCH_SIZE)\n",
    "testdataloader = DataLoader(testdata, batch_size=BATCH_SIZE)\n",
    "\n",
    "# calculate steps per epoch for training and validation set\n",
    "trainsteps = len(traindataloader.dataset) // BATCH_SIZE\n",
    "valsteps = len(valdataloader.dataset) // BATCH_SIZE"
   ],
   "metadata": {
    "collapsed": false
   }
  },
  {
   "cell_type": "code",
   "execution_count": 3,
   "outputs": [
    {
     "name": "stdout",
     "output_type": "stream",
     "text": [
      "[INFO] initializing the CNN model...\n"
     ]
    }
   ],
   "source": [
    "print(\"[INFO] initializing the CNN model...\")\n",
    "model = CNN(layers=[\n",
    "\t{\"in_ch\": 1, \"out_ch\": 10, \"conv_k_sz\": 5, \"maxp_k_sz\": 2, \"maxp_str\": 2}\n",
    "], num_classes=10, lin_features=1960).to(device)"
   ],
   "metadata": {
    "collapsed": false
   }
  },
  {
   "cell_type": "code",
   "execution_count": 4,
   "outputs": [],
   "source": [
    "#opt = torch.optim.Adam(model.parameters(), lr=1e-3)\n",
    "#opt = torch.optim.SGD(model.parameters(), lr=1e-3)\n",
    "opt = pytorch_Lion(model.parameters(), lr=1e-4, weight_decay=1e-2)\n",
    "\n",
    "lossFn = torch.nn.NLLLoss()\n",
    "\n",
    "H = {\n",
    "\t\"train_loss\": [],\n",
    "\t\"train_acc\": [],\n",
    "\t\"val_loss\": [],\n",
    "\t\"val_acc\": []\n",
    "}"
   ],
   "metadata": {
    "collapsed": false
   }
  },
  {
   "cell_type": "code",
   "execution_count": 5,
   "outputs": [
    {
     "name": "stdout",
     "output_type": "stream",
     "text": [
      "[INFO] training the network...\n",
      "[INFO] EPOCH: 1/10\n",
      "Train loss: 0.511220, Train accuracy: 0.8720\n",
      "Val loss: 0.214832, Val accuracy: 0.9374\n",
      "\n",
      "[INFO] EPOCH: 2/10\n",
      "Train loss: 0.151166, Train accuracy: 0.9561\n",
      "Val loss: 0.125269, Val accuracy: 0.9635\n",
      "\n",
      "[INFO] EPOCH: 3/10\n",
      "Train loss: 0.092327, Train accuracy: 0.9725\n",
      "Val loss: 0.092647, Val accuracy: 0.9732\n",
      "\n",
      "[INFO] EPOCH: 4/10\n",
      "Train loss: 0.065283, Train accuracy: 0.9812\n",
      "Val loss: 0.079803, Val accuracy: 0.9745\n",
      "\n",
      "[INFO] EPOCH: 5/10\n",
      "Train loss: 0.049790, Train accuracy: 0.9861\n",
      "Val loss: 0.074505, Val accuracy: 0.9768\n",
      "\n",
      "[INFO] EPOCH: 6/10\n",
      "Train loss: 0.039530, Train accuracy: 0.9896\n",
      "Val loss: 0.071760, Val accuracy: 0.9773\n",
      "\n",
      "[INFO] EPOCH: 7/10\n",
      "Train loss: 0.032236, Train accuracy: 0.9916\n",
      "Val loss: 0.072210, Val accuracy: 0.9771\n",
      "\n",
      "[INFO] EPOCH: 8/10\n",
      "Train loss: 0.026136, Train accuracy: 0.9935\n",
      "Val loss: 0.075506, Val accuracy: 0.9763\n",
      "\n",
      "[INFO] EPOCH: 9/10\n",
      "Train loss: 0.022099, Train accuracy: 0.9942\n",
      "Val loss: 0.080801, Val accuracy: 0.9753\n",
      "\n",
      "[INFO] EPOCH: 10/10\n",
      "Train loss: 0.019290, Train accuracy: 0.9946\n",
      "Val loss: 0.084990, Val accuracy: 0.9755\n",
      "\n",
      "[INFO] total time taken to train the model: 437.28s\n",
      "[INFO] evaluating network...\n",
      "              precision    recall  f1-score   support\n",
      "\n",
      "    0 - zero       0.99      0.98      0.98       980\n",
      "     1 - one       0.99      0.99      0.99      1135\n",
      "     2 - two       0.99      0.97      0.98      1032\n",
      "   3 - three       0.97      0.98      0.98      1010\n",
      "    4 - four       0.98      0.98      0.98       982\n",
      "    5 - five       0.97      0.98      0.97       892\n",
      "     6 - six       0.97      0.98      0.98       958\n",
      "   7 - seven       0.97      1.00      0.98      1028\n",
      "   8 - eight       0.97      0.98      0.97       974\n",
      "    9 - nine       0.99      0.94      0.96      1009\n",
      "\n",
      "    accuracy                           0.98     10000\n",
      "   macro avg       0.98      0.98      0.98     10000\n",
      "weighted avg       0.98      0.98      0.98     10000\n",
      "\n"
     ]
    }
   ],
   "source": [
    "print(\"[INFO] training the network...\")\n",
    "startTime = time.time()\n",
    "# loop over our epochs\n",
    "for e in range(0, EPOCHS):\n",
    "\t# set the model in training mode\n",
    "\tmodel.train()\n",
    "\t# initialize the total training and validation loss\n",
    "\ttotalTrainLoss = 0\n",
    "\ttotalValLoss = 0\n",
    "\t# initialize the number of correct predictions in the training\n",
    "\t# and validation step\n",
    "\ttrainCorrect = 0\n",
    "\tvalCorrect = 0\n",
    "\t# loop over the training set\n",
    "\tfor (x, y) in traindataloader:\n",
    "\t\t# send the input to the device\n",
    "\t\t(x, y) = (x.to(device), y.to(device))\n",
    "\t\t# perform a forward pass and calculate the training loss\n",
    "\t\tpred = model(x)\n",
    "\t\tloss = lossFn(pred, y)\n",
    "\t\t# zero out the gradients, perform the backpropagation step,\n",
    "\t\t# and update the weights\n",
    "\t\topt.zero_grad()\n",
    "\t\tloss.backward()\n",
    "\t\topt.step()\n",
    "\t\t# add the loss to the total training loss so far and\n",
    "\t\t# calculate the number of correct predictions\n",
    "\t\ttotalTrainLoss += loss\n",
    "\t\ttrainCorrect += (pred.argmax(1) == y).type(\n",
    "\t\t\ttorch.float).sum().item()\n",
    "\n",
    "\t# switch off autograd for evaluation\n",
    "\twith torch.no_grad():\n",
    "\t\t# set the model in evaluation mode\n",
    "\t\tmodel.eval()\n",
    "\t\t# loop over the validation set\n",
    "\t\tfor (x, y) in valdataloader:\n",
    "\t\t\t# send the input to the device\n",
    "\t\t\t(x, y) = (x.to(device), y.to(device))\n",
    "\t\t\t# make the predictions and calculate the validation loss\n",
    "\t\t\tpred = model(x)\n",
    "\t\t\ttotalValLoss += lossFn(pred, y)\n",
    "\t\t\t# calculate the number of correct predictions\n",
    "\t\t\tvalCorrect += (pred.argmax(1) == y).type(\n",
    "\t\t\t\ttorch.float).sum().item()\n",
    "\t# calculate the average training and validation loss\n",
    "\tavgTrainLoss = totalTrainLoss / trainsteps\n",
    "\tavgValLoss = totalValLoss / valsteps\n",
    "\t# calculate the training and validation accuracy\n",
    "\ttrainCorrect = trainCorrect / len(traindataloader.dataset)\n",
    "\tvalCorrect = valCorrect / len(valdataloader.dataset)\n",
    "\t# update our training history\n",
    "\tH[\"train_loss\"].append(avgTrainLoss.cpu().detach().numpy())\n",
    "\tH[\"train_acc\"].append(trainCorrect)\n",
    "\tH[\"val_loss\"].append(avgValLoss.cpu().detach().numpy())\n",
    "\tH[\"val_acc\"].append(valCorrect)\n",
    "\t# print the model training and validation information\n",
    "\tprint(\"[INFO] EPOCH: {}/{}\".format(e + 1, EPOCHS))\n",
    "\tprint(\"Train loss: {:.6f}, Train accuracy: {:.4f}\".format(\n",
    "\t\tavgTrainLoss, trainCorrect))\n",
    "\tprint(\"Val loss: {:.6f}, Val accuracy: {:.4f}\\n\".format(\n",
    "\t\tavgValLoss, valCorrect))\n",
    "\n",
    "# finish measuring how long training took\n",
    "endTime = time.time()\n",
    "print(\"[INFO] total time taken to train the model: {:.2f}s\".format(\n",
    "\tendTime - startTime))\n",
    "# we can now evaluate the network on the test set\n",
    "print(\"[INFO] evaluating network...\")\n",
    "# turn off autograd for testing evaluation\n",
    "with torch.no_grad():\n",
    "\t# set the model in evaluation mode\n",
    "\tmodel.eval()\n",
    "\n",
    "\t# initialize a list to store our predictions\n",
    "\tpreds = []\n",
    "\t# loop over the test set\n",
    "\tfor (x, y) in testdataloader:\n",
    "\t\t# send the input to the device\n",
    "\t\tx = x.to(device)\n",
    "\t\t# make the predictions and add them to the list\n",
    "\t\tpred = model(x)\n",
    "\t\tpreds.extend(pred.argmax(axis=1).cpu().numpy())\n",
    "# generate a classification report\n",
    "print(classification_report(testdata.targets.cpu().numpy(),\n",
    "\tnp.array(preds), target_names=testdata.classes))"
   ],
   "metadata": {
    "collapsed": false
   }
  },
  {
   "cell_type": "code",
   "execution_count": 6,
   "outputs": [
    {
     "data": {
      "text/plain": "<Figure size 640x480 with 1 Axes>",
      "image/png": "[encoded data removed]"
     },
     "metadata": {},
     "output_type": "display_data"
    }
   ],
   "source": [
    "# plot the training loss and accuracy\n",
    "plt.style.use(\"ggplot\")\n",
    "plt.figure()\n",
    "plt.plot(H[\"train_loss\"], label=\"train_loss\")\n",
    "plt.plot(H[\"val_loss\"], label=\"val_loss\")\n",
    "plt.plot(H[\"train_acc\"], label=\"train_acc\")\n",
    "plt.plot(H[\"val_acc\"], label=\"val_acc\")\n",
    "plt.title(\"Training Loss and Accuracy on Dataset\")\n",
    "plt.xlabel(\"Epoch #\")\n",
    "plt.ylabel(\"Loss/Accuracy\")\n",
    "plt.legend(loc=\"lower left\")\n",
    "plt.show()"
   ],
   "metadata": {
    "collapsed": false
   }
  }
 ],
 "metadata": {
  "kernelspec": {
   "display_name": "Python 3",
   "language": "python",
   "name": "python3"
  },
  "language_info": {
   "codemirror_mode": {
    "name": "ipython",
    "version": 2
   },
   "file_extension": ".py",
   "mimetype": "text/x-python",
   "name": "python",
   "nbconvert_exporter": "python",
   "pygments_lexer": "ipython2",
   "version": "2.7.6"
  }
 },
 "nbformat": 4,
 "nbformat_minor": 0
}
